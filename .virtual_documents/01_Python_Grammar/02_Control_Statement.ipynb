


money = True
if money:
    print("택시를 타고 가라")
else:
    print("걸어 가라")


# 코드 블럭 들여쓰기 에러
money = True
if money:
    print("택시를")
print("타고")
    print("가라")


# 코드 블럭 들여쓰기 에러
money = True
if money:
    print("택시를")
    print("타고")
        print("가라")





x = 3
y = 2
x > y


x < y


x!=y





# money = True # 왜 거짓이 실행되까?
money = 2000
if money >= 3000:
    print('택시를 타고 가라')
else :
    print('걸어가라')





money = 2000
card = True

if money >= 3000 or card :
    print('택시를 타고 가라')
else :
    print('걸어가라')


1 in [1, 2, 3]


1 not in [1, 2, 3]


'a' in ('a', 'b', 'c')


'j' not in 'python'





pocket = ['money', 'card', 'phone']

if 'money' in pocket:
    print('택시를 타고 가라')
else :
    print('걸어가라')





pocket = ['money', 'card', 'phone']

if 'money' in pocket:
    pass
else :
    print('걸어가라')





pocket = ['money', 'phone']
card = True

if 'money' in pocket :
    print('택시1')
else:
    if card :
        print('택시2')
    else:
        print('걸어가라')


pocket = ['paper', 'cellphone']
card = True
if 'money' in pocket:
     print("택시를 타고가라")
elif card: 
     print("택시를 타고가라")
else:
     print("걸어가라")





if 'money' in pocket:
    pass 
else:
    print("카드를 꺼내라")


if 'money' in pocket: pass 
else: print("카드를 꺼내라")





score = 50
if score >= 60:
    message = "success"
    # print(message)
else:
    message = "failure"
    # print(message)
    
print(message)


message = "success" if score >= 60 else "failure"





treeHit = 0
while treeHit < 10:
    treeHit = treeHit +1
    print("나무를 %d번 찍었습니다." % treeHit)
    if treeHit == 10:
        print("나무 넘어갑니다.")


prompt = '''
1. Add
2. Del
3. List
4. Quit

Enter number : '''


prompt


print(prompt)


input()


input?


number = 0
while number != 4:
    print(prompt)
    number = int(input())





coffee = 10
money = 300
while money:
    print("돈을 받았으니 커피를 줍니다.")
    coffee = coffee -1
    print("남은 커피의 양은 %d개입니다." % coffee)
    if coffee == 0:
        print("커피가 다 떨어졌습니다. 판매를 중지합니다.")
        break





coffee = 10
while True:
    money = int(input('돈을 넣어주세요.: '))
    
    if money == 300: # 돈을 딱 맞게 받은 케이스
        print('커피를 줍니다.')
        coffee -= 1         # 재고 소진
        print(f'남은 커피의 양은 {coffee}개 입니다.')# 남은 재고 체크
    
    elif money > 300 : # 돈을 더 받았을 경우
        # print('거스름돈 %d 을 주고 커피를 줍니다.'%(money-300)) # 거스름돈 계산
        print(f'거스름돈 {money-300}을 주고 커피를 줍니다.')        
        coffee -= 1 # 재고 소진
        print(f'남은 커피의 양은 {coffee}개 입니다.')# 남은 재고 체크
    
    else : # 돈을 부족할 경우
        print('돈을 다시 돌려주고 커피를 주지 않습니다.')
        print(f'남은 커피의 양은 {coffee}개 입니다.')# 남은 재고 체크
              
    if coffee == 0: # 커피가 다 떨어졌을 경우
        print('커피가 다 떨어졌습니다. 판매를 중지합니다.')
        break





a = 0
while a < 10:
    a += 1
    
    if a % 2 == 0: 
        continue
    
    print(a)





# 전형적인 for 문
test_list = ['one', 'two', 'three']

for i in test_list:
    print(i)


a = [(1,2), (3,4), (5,6)]
for i in a:
    print(i)


for first, last in a:
    print(first+last)





scores = [90, 25, 67, 45, 80]

number = 0
for s in scores:
    number += 1
    if s >= 60:
        print(f'{number}번 학생은 {s} 합격입니다.')
    else:
        print(f'{number}번 학생은 {s} 불합격입니다.')





scores = [90, 25, 67, 45, 80]

number = 0
for s in scores:
    number += 1
    if s < 60:
        continue
    print(f"{number}번 학생 축하합니다. 합격입니다.")





range?


range(10)


type(range(10))


for i in range(10):
    print(i)


for i in range(1, 11):
    print(i)





num = 0

for i in range(1, 11):
    num += i
print(num)


scores = [90, 25, 67, 45, 80]

# number = 0
for s in range(len(scores)):
    # number += 1
    if scores[s] < 60:
        continue
    print(f"{s+1}번 학생 축하합니다. 합격입니다.")





for i in range(2, 10):
    print('='*10)
    print(f'{i}단')
    for j in range(1, 10):
        print(f"{i}X{j}={i*j}")    


print?


for i in range(2,10):        # 1번 for문
    for j in range(1, 10):   # 2번 for문
        print(i*j, end=" ") 
    print('') 





a = [1,2,3,4]
result = []
for num in a:
    result.append(num*3)

print(result)


a = [1,2,3,4]
result = [num * 3 for num in a if num % 2 == 0]
print(result)


# 시간 측정을 위한 코드, 2배넘게 차이남
import time

start = time.time() 
numbers = [i for i in range(1000000)] 
end = time.time() 
print('List Comprehension Time:', end-start)

start = time.time() 
numbers = []
for i in range(1000000):
    numbers.append(i)
end = time.time() 
print('For loop Time:', end-start)


















