


money = True
if money:
    print("택시를 타고 가라")
else:
    print("걸어 가라")


money = True
if money:
    print("택시를")
print("타고")
    print("가라")


money = True
if money:
    print("택시를")
    print("타고")
        print("가라")





# 비교연산자
x = 3
y = 2
x > y


x < y


x != y





money = 2000
if money >= 3000:
    print("택시를 타고 가라")
else:
    print("걸어 가라")





money = 2000
card = True

if money >= 3000 or card:
    print("택시를 타고 가라")
else:
    print("걸어 가라")





1 in [1, 2, 3]


1 not in [1, 2, 3]


'a' in ('a', 'b', 'c')


'j' not in 'python'


pocket = ['key', 'cellphone', 'money']

if 'money' in pocket:
    print("택시를 타고 가라")
else:
    print("걸어가라")





pocket = ['key', 'cellphone', 'money']

if 'money' in pocket:
    pass
else:
    print("걸어가라")





pocket = ['key', 'cellphone']
card = True

if 'money' in pocket:
    print('택시를 타고 가라')
else:
    if card :
        print('택시를 타고 가라')
    else : 
        print('걸어가라')


pocket = ['paper', 'cellphone']
card = True
if 'money' in pocket:
     print("택시를 타고가라")
elif card: 
     print("택시를 타고가라")
else:
     print("걸어가라")


# if 문 한줄로 작성하기
if 'money' in pocket:
    pass 
else:
    print("카드를 꺼내라")


if 'money' in pocket:pass 
else:print("카드를 꺼내라")





score = 88
if score >= 60:
    message = "success"
    # print(message)
else:
    message = "failure"
    # print(message)
print(message)


message = "success" if score >= 60 else "failure"
print(message)





treeHit = 0
while treeHit < 10:
    treeHit = treeHit +1
    print("나무를 %d번 찍었습니다." % treeHit)
    if treeHit == 10:
        print("나무 넘어갑니다.")





prompt = """
1. Add
2. Del
3. List
4. Quit

Enter number :"""


print(prompt)


number = 0
while number != 4:
    print(prompt)
    number = int(input())





coffee = 10
money = 300

while money :
    print('돈을 받았으니 커피를 줍니다.')
    coffee = coffee - 1
    print(f'남은 커피의 양은 {coffee}입니다.')
    if coffee == 0:
        print('커피가 다 떨어져서 판매를 중지합니다.')
        break





coffee = 10

while True :
    money = int(input('돈을 넣어주세요: '))
    
    if money == 300:
        print('300원을 받았습니다. 커피를 줍니다.')
        coffee = coffee - 1
        print(f'남은 커피수량은 {coffee} 입니다.')
    
    elif money > 300:
        print(f'{money-300}거스름돈을 주고 커피를 줍니다.')
        coffee = coffee - 1
        print(f'남은 커피수량은 {coffee} 입니다.')
    
    else : # money < 300
        print('돈이 부족합니다. 커피를 주지 않습니다.')
        print(f'남은 커피수량은 {coffee} 입니다.')
       
    if coffee == 0:
        print('커피가 다 떨어졌습니다. 판매를 중지합니다.')
        break








# 전형적인 for문
test_list = ['one', 'two', 'three'] 
for i in test_list: 
    print(i)


# 다양한 for 문
a = [(1,2), (3,4), (5,6)]
for (first, last) in a:
    print(first + last)





marks = [90, 25, 67, 45, 80]


number = 0   # 학생에게 붙여 줄 번호
for mark in marks:   # 90, 25, 67, 45, 80을 순서대로 mark에 대입
    number = number +1 
    if mark >= 60: 
        print("%d번 학생은 합격입니다." % number)
    else: 
        print("%d번 학생은 불합격입니다." % number)








marks = [90, 25, 67, 45, 80]

number = 0 
for mark in marks: 
    number = number +1 
    if mark < 60:
        continue 
    print("%d번 학생 축하합니다. 합격입니다. " % number)





# continue
i = 0
while i < 10:
    i += 1
    if i % 3 == 0:
        continue # 나머지가 0이면 while i < 10으로 새로 코드 시작
        print(i,'test') # 실행 안됨
    print(i)  # 실행 안됨
# 3의 배수가 나오지 않고 반복분은 처음부터 다시 시작


# pass
i = 0
while i < 10:
    i += 1
    if i % 3 == 0:
        pass # 해당 조건문만 실행하지 않고, 아래 코드를 실행함.
        print(i,'test') # 실행됨
    print(i) # 실행됨





range?


range(10)


type(range(10))


for i in range(10):
    print(i)


range(1, 11)


for i in range(1, 11):
    print(i)





for i in range(1, 11) :
    i = i+i
    print(i)


sum = 0
for i in range(1, 11):
    sum += i
    print(sum)
# print(sum)


marks = [90, 25, 67, 45, 80]
for number in range(len(marks)):
    if marks[number] < 60: 
        continue
    print("%d번 학생 축하합니다. 합격입니다." % (number+1))





for i in range(2,10):        # 1번 for문
    for j in range(1, 10):   # 2번 for문
        print(i*j, end=" ") 
    print('')


for i in range(2, 10):
    print('='*20)
    print('x=', i)
    print('='*20)
    for j in range(1, 10):
        print(f'{i}*{j}={i*j}')





a = [1,2,3,4]
result = []
for num in a:
    result.append(num*3)

print(result)


a = [1,2,3,4]
result = [num * 3 for num in a if num % 2 == 0]
print(result)


result = [x*y for x in range(2,10)
              for y in range(1,10)]
print(result)


# 시간 측정을 위한 코드, 2배넘게 차이남
import time

start = time.time() 
numbers = [i for i in range(1000000)] 
end = time.time() 
print('List Comprehension Time:', end-start)

start = time.time() 
numbers = []
for i in range(1000000):
    numbers.append(i)
end = time.time() 
print('For loop Time:', end-start)
