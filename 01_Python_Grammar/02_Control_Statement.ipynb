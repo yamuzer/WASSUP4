{
 "cells": [
  {
   "cell_type": "markdown",
   "id": "79185414-825d-480a-be39-78bc0e622e0a",
   "metadata": {},
   "source": [
    "# if문\n",
    "‘돈이 있으면 택시를 타고 가고, 돈이 없으면 걸어간다.’"
   ]
  },
  {
   "cell_type": "code",
   "execution_count": 1,
   "id": "20e31a56-0375-4985-917c-310fdb7dc699",
   "metadata": {
    "tags": []
   },
   "outputs": [
    {
     "name": "stdout",
     "output_type": "stream",
     "text": [
      "택시를 타고 가라\n"
     ]
    }
   ],
   "source": [
    "money = True\n",
    "if money:\n",
    "    print(\"택시를 타고 가라\")\n",
    "else:\n",
    "    print(\"걸어 가라\")"
   ]
  },
  {
   "cell_type": "code",
   "execution_count": 2,
   "id": "f315bf3d-8e39-4f9c-932c-66c8b1454cb9",
   "metadata": {
    "tags": []
   },
   "outputs": [
    {
     "ename": "IndentationError",
     "evalue": "unexpected indent (887615223.py, line 6)",
     "output_type": "error",
     "traceback": [
      "\u001b[1;36m  File \u001b[1;32m\"C:\\Users\\maeng\\AppData\\Local\\Temp\\ipykernel_7804\\887615223.py\"\u001b[1;36m, line \u001b[1;32m6\u001b[0m\n\u001b[1;33m    print(\"가라\")\u001b[0m\n\u001b[1;37m    ^\u001b[0m\n\u001b[1;31mIndentationError\u001b[0m\u001b[1;31m:\u001b[0m unexpected indent\n"
     ]
    }
   ],
   "source": [
    "# 코드 블럭 들여쓰기 에러\n",
    "money = True\n",
    "if money:\n",
    "    print(\"택시를\")\n",
    "print(\"타고\")\n",
    "    print(\"가라\")"
   ]
  },
  {
   "cell_type": "code",
   "execution_count": 3,
   "id": "209ab68c-5774-4ce5-ae19-075e56d3cea5",
   "metadata": {
    "tags": []
   },
   "outputs": [
    {
     "ename": "IndentationError",
     "evalue": "unexpected indent (32317336.py, line 6)",
     "output_type": "error",
     "traceback": [
      "\u001b[1;36m  File \u001b[1;32m\"C:\\Users\\maeng\\AppData\\Local\\Temp\\ipykernel_7804\\32317336.py\"\u001b[1;36m, line \u001b[1;32m6\u001b[0m\n\u001b[1;33m    print(\"가라\")\u001b[0m\n\u001b[1;37m    ^\u001b[0m\n\u001b[1;31mIndentationError\u001b[0m\u001b[1;31m:\u001b[0m unexpected indent\n"
     ]
    }
   ],
   "source": [
    "# 코드 블럭 들여쓰기 에러\n",
    "money = True\n",
    "if money:\n",
    "    print(\"택시를\")\n",
    "    print(\"타고\")\n",
    "        print(\"가라\")"
   ]
  },
  {
   "cell_type": "markdown",
   "id": "040f6de0-0de2-42bb-a989-097f67e3d73d",
   "metadata": {},
   "source": [
    "## 비교연산자"
   ]
  },
  {
   "cell_type": "code",
   "execution_count": 4,
   "id": "10d6a7a0-3da8-4359-99f7-1ecdb0b6f16d",
   "metadata": {
    "tags": []
   },
   "outputs": [
    {
     "data": {
      "text/plain": [
       "True"
      ]
     },
     "execution_count": 4,
     "metadata": {},
     "output_type": "execute_result"
    }
   ],
   "source": [
    "x = 3\n",
    "y = 2\n",
    "x > y"
   ]
  },
  {
   "cell_type": "code",
   "execution_count": 5,
   "id": "54fb2038-0c60-445d-bb79-34000237511c",
   "metadata": {
    "tags": []
   },
   "outputs": [
    {
     "data": {
      "text/plain": [
       "False"
      ]
     },
     "execution_count": 5,
     "metadata": {},
     "output_type": "execute_result"
    }
   ],
   "source": [
    "x < y"
   ]
  },
  {
   "cell_type": "code",
   "execution_count": 6,
   "id": "22675710-31a1-4a76-bcec-3bbc686320b1",
   "metadata": {
    "tags": []
   },
   "outputs": [
    {
     "data": {
      "text/plain": [
       "True"
      ]
     },
     "execution_count": 6,
     "metadata": {},
     "output_type": "execute_result"
    }
   ],
   "source": [
    "x!=y"
   ]
  },
  {
   "cell_type": "markdown",
   "id": "0959c029-7e53-4c4e-b2dd-ad40f04f419e",
   "metadata": {},
   "source": [
    "## quiz\n",
    "```\n",
    "만약 3000원 이상의 돈을 가지고 있으면 택시를 타고 가고,    그렇지 않으면 걸어가라.\n",
    "```"
   ]
  },
  {
   "cell_type": "code",
   "execution_count": 12,
   "id": "bcb88f3a-fc78-4d07-8c25-c76ef98ab8d0",
   "metadata": {
    "tags": []
   },
   "outputs": [
    {
     "name": "stdout",
     "output_type": "stream",
     "text": [
      "걸어가라\n"
     ]
    }
   ],
   "source": [
    "# money = True # 왜 거짓이 실행되까?\n",
    "money = 2000\n",
    "if money >= 3000:\n",
    "    print('택시를 타고 가라')\n",
    "else :\n",
    "    print('걸어가라')"
   ]
  },
  {
   "cell_type": "markdown",
   "id": "58530edc-28dc-4264-bca8-8ec991cd22f5",
   "metadata": {},
   "source": [
    "## quiz\n",
    "```\n",
    "돈이 3000원 이상 있거나 카드가 있다면 택시를 타고 가고,\n",
    "그렇지 않으면 걸어가라.\n",
    "```"
   ]
  },
  {
   "cell_type": "code",
   "execution_count": 17,
   "id": "d92f3f55-fd74-49fc-aa1b-4558d3c1f0f4",
   "metadata": {
    "tags": []
   },
   "outputs": [
    {
     "name": "stdout",
     "output_type": "stream",
     "text": [
      "택시를 타고 가라\n"
     ]
    }
   ],
   "source": [
    "money = 2000\n",
    "card = True\n",
    "\n",
    "if money >= 3000 or card :\n",
    "    print('택시를 타고 가라')\n",
    "else :\n",
    "    print('걸어가라')"
   ]
  },
  {
   "cell_type": "code",
   "execution_count": 18,
   "id": "a673e3db-0695-4ede-8d14-f12134fe766d",
   "metadata": {
    "tags": []
   },
   "outputs": [
    {
     "data": {
      "text/plain": [
       "True"
      ]
     },
     "execution_count": 18,
     "metadata": {},
     "output_type": "execute_result"
    }
   ],
   "source": [
    "1 in [1, 2, 3]"
   ]
  },
  {
   "cell_type": "code",
   "execution_count": 19,
   "id": "db48242e-85b3-4bfd-9f67-4a8624267abc",
   "metadata": {
    "tags": []
   },
   "outputs": [
    {
     "data": {
      "text/plain": [
       "False"
      ]
     },
     "execution_count": 19,
     "metadata": {},
     "output_type": "execute_result"
    }
   ],
   "source": [
    "1 not in [1, 2, 3]"
   ]
  },
  {
   "cell_type": "code",
   "execution_count": 20,
   "id": "851454de-d82c-406b-aa55-57350c6c410a",
   "metadata": {
    "tags": []
   },
   "outputs": [
    {
     "data": {
      "text/plain": [
       "True"
      ]
     },
     "execution_count": 20,
     "metadata": {},
     "output_type": "execute_result"
    }
   ],
   "source": [
    "'a' in ('a', 'b', 'c')"
   ]
  },
  {
   "cell_type": "code",
   "execution_count": 21,
   "id": "ce590cb8-2f25-4ac3-9c9f-5ada9187384b",
   "metadata": {
    "tags": []
   },
   "outputs": [
    {
     "data": {
      "text/plain": [
       "True"
      ]
     },
     "execution_count": 21,
     "metadata": {},
     "output_type": "execute_result"
    }
   ],
   "source": [
    "'j' not in 'python'"
   ]
  },
  {
   "cell_type": "markdown",
   "id": "33301d3f-f002-40ef-a1c3-17b2a0a5a023",
   "metadata": {},
   "source": [
    "## quiz\n",
    "```\n",
    "만약 주머니에 돈이 있으면 택시를 타고 가고,\n",
    "없으면 걸어가라.\n",
    "```"
   ]
  },
  {
   "cell_type": "code",
   "execution_count": 24,
   "id": "cc6763a5-c5dd-49ad-8d8f-37de3179ff6f",
   "metadata": {
    "tags": []
   },
   "outputs": [
    {
     "name": "stdout",
     "output_type": "stream",
     "text": [
      "택시를 타고 가라\n"
     ]
    }
   ],
   "source": [
    "pocket = ['money', 'card', 'phone']\n",
    "\n",
    "if 'money' in pocket:\n",
    "    print('택시를 타고 가라')\n",
    "else :\n",
    "    print('걸어가라')"
   ]
  },
  {
   "cell_type": "markdown",
   "id": "a270d650-1cb2-43dd-a028-eedbec30799e",
   "metadata": {},
   "source": [
    "## pass\n",
    "```\n",
    "주머니에 돈이 있으면 가만히 있고, 주머니에 돈이 없으면 카드를 꺼내라.\n",
    "```"
   ]
  },
  {
   "cell_type": "code",
   "execution_count": 25,
   "id": "d89fdcfb-4d5b-41a4-af32-ec5888429a1b",
   "metadata": {
    "tags": []
   },
   "outputs": [],
   "source": [
    "pocket = ['money', 'card', 'phone']\n",
    "\n",
    "if 'money' in pocket:\n",
    "    pass\n",
    "else :\n",
    "    print('걸어가라')"
   ]
  },
  {
   "cell_type": "markdown",
   "id": "ca418404-5ccc-400b-b456-1731e1001b31",
   "metadata": {},
   "source": [
    "## elif\n",
    "```\n",
    "주머니에 돈이 있으면 택시를 타고 가고,\n",
    "주머니에 돈은 없지만 카드가 있으면 택시를 타고 가고,\n",
    "돈도 없고 카드도 없으면 걸어가라.\n",
    "```"
   ]
  },
  {
   "cell_type": "code",
   "execution_count": 30,
   "id": "3ec39397-7b6a-4a01-9ae0-ae3766fbd52d",
   "metadata": {
    "tags": []
   },
   "outputs": [
    {
     "name": "stdout",
     "output_type": "stream",
     "text": [
      "택시1\n"
     ]
    }
   ],
   "source": [
    "pocket = ['money', 'phone']\n",
    "card = True\n",
    "\n",
    "if 'money' in pocket :\n",
    "    print('택시1')\n",
    "else:\n",
    "    if card :\n",
    "        print('택시2')\n",
    "    else:\n",
    "        print('걸어가라')"
   ]
  },
  {
   "cell_type": "code",
   "execution_count": 31,
   "id": "09d166e9-a9b5-4411-895f-503feb211ccd",
   "metadata": {
    "tags": []
   },
   "outputs": [
    {
     "name": "stdout",
     "output_type": "stream",
     "text": [
      "택시를 타고가라\n"
     ]
    }
   ],
   "source": [
    "pocket = ['paper', 'cellphone']\n",
    "card = True\n",
    "if 'money' in pocket:\n",
    "     print(\"택시를 타고가라\")\n",
    "elif card: \n",
    "     print(\"택시를 타고가라\")\n",
    "else:\n",
    "     print(\"걸어가라\")"
   ]
  },
  {
   "cell_type": "markdown",
   "id": "268f6107-ebd1-4718-88f9-ec755360f8ad",
   "metadata": {},
   "source": [
    "## if문 한 줄로 작성하기"
   ]
  },
  {
   "cell_type": "code",
   "execution_count": 32,
   "id": "ad182891-4db7-4e82-b0a1-0e02b4801799",
   "metadata": {
    "tags": []
   },
   "outputs": [
    {
     "name": "stdout",
     "output_type": "stream",
     "text": [
      "카드를 꺼내라\n"
     ]
    }
   ],
   "source": [
    "if 'money' in pocket:\n",
    "    pass \n",
    "else:\n",
    "    print(\"카드를 꺼내라\")"
   ]
  },
  {
   "cell_type": "code",
   "execution_count": 33,
   "id": "ffc17d7a-2a5a-4656-a1be-85428dafc6e9",
   "metadata": {
    "tags": []
   },
   "outputs": [
    {
     "name": "stdout",
     "output_type": "stream",
     "text": [
      "카드를 꺼내라\n"
     ]
    }
   ],
   "source": [
    "if 'money' in pocket: pass \n",
    "else: print(\"카드를 꺼내라\")"
   ]
  },
  {
   "cell_type": "markdown",
   "id": "12655af7-e841-4ffe-80b1-084adf4c2548",
   "metadata": {},
   "source": [
    "## 조건부 표현식"
   ]
  },
  {
   "cell_type": "code",
   "execution_count": 36,
   "id": "4d38a79c-93a6-4ab6-bee9-028fbd287769",
   "metadata": {
    "tags": []
   },
   "outputs": [
    {
     "name": "stdout",
     "output_type": "stream",
     "text": [
      "failure\n"
     ]
    }
   ],
   "source": [
    "score = 50\n",
    "if score >= 60:\n",
    "    message = \"success\"\n",
    "    # print(message)\n",
    "else:\n",
    "    message = \"failure\"\n",
    "    # print(message)\n",
    "    \n",
    "print(message)"
   ]
  },
  {
   "cell_type": "code",
   "execution_count": 37,
   "id": "8d6d2019-a449-40b8-877f-7ab76b40f86a",
   "metadata": {
    "tags": []
   },
   "outputs": [],
   "source": [
    "message = \"success\" if score >= 60 else \"failure\""
   ]
  },
  {
   "cell_type": "markdown",
   "id": "beb569f9-4a2b-4d34-8d6f-978d15d3d422",
   "metadata": {},
   "source": [
    "# While 반복문"
   ]
  },
  {
   "cell_type": "code",
   "execution_count": 38,
   "id": "49f1accb-e7c5-408c-96dc-87e4253e181e",
   "metadata": {
    "tags": []
   },
   "outputs": [
    {
     "name": "stdout",
     "output_type": "stream",
     "text": [
      "나무를 1번 찍었습니다.\n",
      "나무를 2번 찍었습니다.\n",
      "나무를 3번 찍었습니다.\n",
      "나무를 4번 찍었습니다.\n",
      "나무를 5번 찍었습니다.\n",
      "나무를 6번 찍었습니다.\n",
      "나무를 7번 찍었습니다.\n",
      "나무를 8번 찍었습니다.\n",
      "나무를 9번 찍었습니다.\n",
      "나무를 10번 찍었습니다.\n",
      "나무 넘어갑니다.\n"
     ]
    }
   ],
   "source": [
    "treeHit = 0\n",
    "while treeHit < 10:\n",
    "    treeHit = treeHit +1\n",
    "    print(\"나무를 %d번 찍었습니다.\" % treeHit)\n",
    "    if treeHit == 10:\n",
    "        print(\"나무 넘어갑니다.\")"
   ]
  },
  {
   "cell_type": "code",
   "execution_count": 39,
   "id": "068a3090-bf09-4878-9652-da15cf8b5fd3",
   "metadata": {
    "tags": []
   },
   "outputs": [],
   "source": [
    "prompt = '''\n",
    "1. Add\n",
    "2. Del\n",
    "3. List\n",
    "4. Quit\n",
    "\n",
    "Enter number : '''"
   ]
  },
  {
   "cell_type": "code",
   "execution_count": 40,
   "id": "355cf91d-7c2e-4dc8-aa5b-ab2188092887",
   "metadata": {
    "tags": []
   },
   "outputs": [
    {
     "data": {
      "text/plain": [
       "'\\n1. Add\\n2. Del\\n3. List\\n4. Quit\\n\\nEnter number : '"
      ]
     },
     "execution_count": 40,
     "metadata": {},
     "output_type": "execute_result"
    }
   ],
   "source": [
    "prompt"
   ]
  },
  {
   "cell_type": "code",
   "execution_count": 41,
   "id": "7400cec8-36ef-4a27-b62b-2b329df5288a",
   "metadata": {
    "tags": []
   },
   "outputs": [
    {
     "name": "stdout",
     "output_type": "stream",
     "text": [
      "\n",
      "1. Add\n",
      "2. Del\n",
      "3. List\n",
      "4. Quit\n",
      "\n",
      "Enter number : \n"
     ]
    }
   ],
   "source": [
    "print(prompt)"
   ]
  },
  {
   "cell_type": "code",
   "execution_count": 42,
   "id": "2dac2e13-73a7-4b51-bf42-a6d35a9e88db",
   "metadata": {
    "tags": []
   },
   "outputs": [
    {
     "name": "stdin",
     "output_type": "stream",
     "text": [
      " 안녕하세요.\n"
     ]
    },
    {
     "data": {
      "text/plain": [
       "'안녕하세요.'"
      ]
     },
     "execution_count": 42,
     "metadata": {},
     "output_type": "execute_result"
    }
   ],
   "source": [
    "input()"
   ]
  },
  {
   "cell_type": "code",
   "execution_count": 43,
   "id": "e29feb58-777d-468a-bbf2-a70010f9ec5d",
   "metadata": {
    "tags": []
   },
   "outputs": [
    {
     "data": {
      "text/plain": [
       "\u001b[1;31mSignature:\u001b[0m \u001b[0minput\u001b[0m\u001b[1;33m(\u001b[0m\u001b[0mprompt\u001b[0m\u001b[1;33m=\u001b[0m\u001b[1;34m''\u001b[0m\u001b[1;33m)\u001b[0m\u001b[1;33m\u001b[0m\u001b[1;33m\u001b[0m\u001b[0m\n",
       "\u001b[1;31mDocstring:\u001b[0m\n",
       "Forward raw_input to frontends\n",
       "\n",
       "Raises\n",
       "------\n",
       "StdinNotImplementedError if active frontend doesn't support stdin.\n",
       "\u001b[1;31mFile:\u001b[0m      c:\\users\\maeng\\anaconda3\\lib\\site-packages\\ipykernel\\kernelbase.py\n",
       "\u001b[1;31mType:\u001b[0m      method\n"
      ]
     },
     "metadata": {},
     "output_type": "display_data"
    }
   ],
   "source": [
    "input?"
   ]
  },
  {
   "cell_type": "code",
   "execution_count": 45,
   "id": "2d0a6d5a-27f9-47d3-b0ab-19714874ba2c",
   "metadata": {
    "tags": []
   },
   "outputs": [
    {
     "name": "stdout",
     "output_type": "stream",
     "text": [
      "\n",
      "1. Add\n",
      "2. Del\n",
      "3. List\n",
      "4. Quit\n",
      "\n",
      "Enter number : \n"
     ]
    },
    {
     "name": "stdin",
     "output_type": "stream",
     "text": [
      " 1\n"
     ]
    },
    {
     "name": "stdout",
     "output_type": "stream",
     "text": [
      "\n",
      "1. Add\n",
      "2. Del\n",
      "3. List\n",
      "4. Quit\n",
      "\n",
      "Enter number : \n"
     ]
    },
    {
     "name": "stdin",
     "output_type": "stream",
     "text": [
      " 2\n"
     ]
    },
    {
     "name": "stdout",
     "output_type": "stream",
     "text": [
      "\n",
      "1. Add\n",
      "2. Del\n",
      "3. List\n",
      "4. Quit\n",
      "\n",
      "Enter number : \n"
     ]
    },
    {
     "name": "stdin",
     "output_type": "stream",
     "text": [
      " 3\n"
     ]
    },
    {
     "name": "stdout",
     "output_type": "stream",
     "text": [
      "\n",
      "1. Add\n",
      "2. Del\n",
      "3. List\n",
      "4. Quit\n",
      "\n",
      "Enter number : \n"
     ]
    },
    {
     "name": "stdin",
     "output_type": "stream",
     "text": [
      " 4\n"
     ]
    }
   ],
   "source": [
    "number = 0\n",
    "while number != 4:\n",
    "    print(prompt)\n",
    "    number = int(input())"
   ]
  },
  {
   "cell_type": "markdown",
   "id": "10a846fb-adc1-4de4-bcb6-55417efa89ea",
   "metadata": {},
   "source": [
    "## while 문 강제로 빠져나가기"
   ]
  },
  {
   "cell_type": "code",
   "execution_count": 46,
   "id": "cf6aed4e-23bd-470a-9e96-b4036b7ee3fd",
   "metadata": {
    "tags": []
   },
   "outputs": [
    {
     "name": "stdout",
     "output_type": "stream",
     "text": [
      "돈을 받았으니 커피를 줍니다.\n",
      "남은 커피의 양은 9개입니다.\n",
      "돈을 받았으니 커피를 줍니다.\n",
      "남은 커피의 양은 8개입니다.\n",
      "돈을 받았으니 커피를 줍니다.\n",
      "남은 커피의 양은 7개입니다.\n",
      "돈을 받았으니 커피를 줍니다.\n",
      "남은 커피의 양은 6개입니다.\n",
      "돈을 받았으니 커피를 줍니다.\n",
      "남은 커피의 양은 5개입니다.\n",
      "돈을 받았으니 커피를 줍니다.\n",
      "남은 커피의 양은 4개입니다.\n",
      "돈을 받았으니 커피를 줍니다.\n",
      "남은 커피의 양은 3개입니다.\n",
      "돈을 받았으니 커피를 줍니다.\n",
      "남은 커피의 양은 2개입니다.\n",
      "돈을 받았으니 커피를 줍니다.\n",
      "남은 커피의 양은 1개입니다.\n",
      "돈을 받았으니 커피를 줍니다.\n",
      "남은 커피의 양은 0개입니다.\n",
      "커피가 다 떨어졌습니다. 판매를 중지합니다.\n"
     ]
    }
   ],
   "source": [
    "coffee = 10\n",
    "money = 300\n",
    "while money:\n",
    "    print(\"돈을 받았으니 커피를 줍니다.\")\n",
    "    coffee = coffee -1\n",
    "    print(\"남은 커피의 양은 %d개입니다.\" % coffee)\n",
    "    if coffee == 0:\n",
    "        print(\"커피가 다 떨어졌습니다. 판매를 중지합니다.\")\n",
    "        break"
   ]
  },
  {
   "cell_type": "markdown",
   "id": "b82218b3-35aa-4037-80f8-27ab60a359c9",
   "metadata": {},
   "source": [
    "## quiz\n",
    "```\n",
    "money를 사용자 입력 받는\n",
    "커피 자판기 프로그램을 만들어보자\n",
    "\n",
    "```"
   ]
  },
  {
   "cell_type": "code",
   "execution_count": 8,
   "id": "645e4c4f-09af-4112-aea9-efc809bb8f62",
   "metadata": {
    "tags": []
   },
   "outputs": [
    {
     "name": "stdin",
     "output_type": "stream",
     "text": [
      "돈을 넣어주세요.:  100\n"
     ]
    },
    {
     "name": "stdout",
     "output_type": "stream",
     "text": [
      "돈을 다시 돌려주고 커피를 주지 않습니다.\n",
      "남은 커피의 양은 10개 입니다.\n"
     ]
    },
    {
     "name": "stdin",
     "output_type": "stream",
     "text": [
      "돈을 넣어주세요.:  300\n"
     ]
    },
    {
     "name": "stdout",
     "output_type": "stream",
     "text": [
      "커피를 줍니다.\n",
      "남은 커피의 양은 9개 입니다.\n"
     ]
    },
    {
     "name": "stdin",
     "output_type": "stream",
     "text": [
      "돈을 넣어주세요.:  500\n"
     ]
    },
    {
     "name": "stdout",
     "output_type": "stream",
     "text": [
      "거스름돈 200을 주고 커피를 줍니다.\n",
      "남은 커피의 양은 8개 입니다.\n"
     ]
    },
    {
     "name": "stdin",
     "output_type": "stream",
     "text": [
      "돈을 넣어주세요.:  300\n"
     ]
    },
    {
     "name": "stdout",
     "output_type": "stream",
     "text": [
      "커피를 줍니다.\n",
      "남은 커피의 양은 7개 입니다.\n"
     ]
    },
    {
     "name": "stdin",
     "output_type": "stream",
     "text": [
      "돈을 넣어주세요.:  300\n"
     ]
    },
    {
     "name": "stdout",
     "output_type": "stream",
     "text": [
      "커피를 줍니다.\n",
      "남은 커피의 양은 6개 입니다.\n"
     ]
    },
    {
     "name": "stdin",
     "output_type": "stream",
     "text": [
      "돈을 넣어주세요.:  300\n"
     ]
    },
    {
     "name": "stdout",
     "output_type": "stream",
     "text": [
      "커피를 줍니다.\n",
      "남은 커피의 양은 5개 입니다.\n"
     ]
    },
    {
     "name": "stdin",
     "output_type": "stream",
     "text": [
      "돈을 넣어주세요.:  300\n"
     ]
    },
    {
     "name": "stdout",
     "output_type": "stream",
     "text": [
      "커피를 줍니다.\n",
      "남은 커피의 양은 4개 입니다.\n"
     ]
    },
    {
     "name": "stdin",
     "output_type": "stream",
     "text": [
      "돈을 넣어주세요.:  300\n"
     ]
    },
    {
     "name": "stdout",
     "output_type": "stream",
     "text": [
      "커피를 줍니다.\n",
      "남은 커피의 양은 3개 입니다.\n"
     ]
    },
    {
     "name": "stdin",
     "output_type": "stream",
     "text": [
      "돈을 넣어주세요.:  300\n"
     ]
    },
    {
     "name": "stdout",
     "output_type": "stream",
     "text": [
      "커피를 줍니다.\n",
      "남은 커피의 양은 2개 입니다.\n"
     ]
    },
    {
     "name": "stdin",
     "output_type": "stream",
     "text": [
      "돈을 넣어주세요.:  300\n"
     ]
    },
    {
     "name": "stdout",
     "output_type": "stream",
     "text": [
      "커피를 줍니다.\n",
      "남은 커피의 양은 1개 입니다.\n"
     ]
    },
    {
     "name": "stdin",
     "output_type": "stream",
     "text": [
      "돈을 넣어주세요.:  300\n"
     ]
    },
    {
     "name": "stdout",
     "output_type": "stream",
     "text": [
      "커피를 줍니다.\n",
      "남은 커피의 양은 0개 입니다.\n",
      "커피가 다 떨어졌습니다. 판매를 중지합니다.\n"
     ]
    }
   ],
   "source": [
    "coffee = 10\n",
    "while True:\n",
    "    money = int(input('돈을 넣어주세요.: '))\n",
    "    \n",
    "    if money == 300: # 돈을 딱 맞게 받은 케이스\n",
    "        print('커피를 줍니다.')\n",
    "        coffee -= 1         # 재고 소진\n",
    "        print(f'남은 커피의 양은 {coffee}개 입니다.')# 남은 재고 체크\n",
    "    \n",
    "    elif money > 300 : # 돈을 더 받았을 경우\n",
    "        # print('거스름돈 %d 을 주고 커피를 줍니다.'%(money-300)) # 거스름돈 계산\n",
    "        print(f'거스름돈 {money-300}을 주고 커피를 줍니다.')        \n",
    "        coffee -= 1 # 재고 소진\n",
    "        print(f'남은 커피의 양은 {coffee}개 입니다.')# 남은 재고 체크\n",
    "    \n",
    "    else : # 돈을 부족할 경우\n",
    "        print('돈을 다시 돌려주고 커피를 주지 않습니다.')\n",
    "        print(f'남은 커피의 양은 {coffee}개 입니다.')# 남은 재고 체크\n",
    "              \n",
    "    if coffee == 0: # 커피가 다 떨어졌을 경우\n",
    "        print('커피가 다 떨어졌습니다. 판매를 중지합니다.')\n",
    "        break"
   ]
  },
  {
   "cell_type": "markdown",
   "id": "efba2b05-5770-49ab-9254-086a0221fdad",
   "metadata": {},
   "source": [
    "## while문 맨 처음으로 돌아가기 continue\n",
    "1부터 10까지의 숫자 중에서 홀수만 출력하는 프로그램을 \n",
    "while문으로 만들어보자"
   ]
  },
  {
   "cell_type": "code",
   "execution_count": 10,
   "id": "f9af7c7d-6de1-47c9-bb0b-103a294a5f8e",
   "metadata": {},
   "outputs": [
    {
     "name": "stdout",
     "output_type": "stream",
     "text": [
      "1\n",
      "3\n",
      "5\n",
      "7\n",
      "9\n"
     ]
    }
   ],
   "source": [
    "a = 0\n",
    "while a < 10:\n",
    "    a += 1\n",
    "    \n",
    "    if a % 2 == 0: \n",
    "        continue\n",
    "    \n",
    "    print(a)"
   ]
  },
  {
   "cell_type": "markdown",
   "id": "5feb0ad6-2fd3-4172-bf2a-08718dd5e9cd",
   "metadata": {},
   "source": [
    "## For 반복문"
   ]
  },
  {
   "cell_type": "code",
   "execution_count": 11,
   "id": "a32b593f-a77d-4dc1-9635-5b2a0f391f46",
   "metadata": {
    "tags": []
   },
   "outputs": [
    {
     "name": "stdout",
     "output_type": "stream",
     "text": [
      "one\n",
      "two\n",
      "three\n"
     ]
    }
   ],
   "source": [
    "# 전형적인 for 문\n",
    "test_list = ['one', 'two', 'three']\n",
    "\n",
    "for i in test_list:\n",
    "    print(i)"
   ]
  },
  {
   "cell_type": "code",
   "execution_count": 12,
   "id": "bd988825-64f8-4438-a0d4-0030face3475",
   "metadata": {
    "tags": []
   },
   "outputs": [
    {
     "name": "stdout",
     "output_type": "stream",
     "text": [
      "(1, 2)\n",
      "(3, 4)\n",
      "(5, 6)\n"
     ]
    }
   ],
   "source": [
    "a = [(1,2), (3,4), (5,6)]\n",
    "for i in a:\n",
    "    print(i)"
   ]
  },
  {
   "cell_type": "code",
   "execution_count": 13,
   "id": "f8d259a2-bcfb-451e-a10f-7f479d5fbc3c",
   "metadata": {
    "tags": []
   },
   "outputs": [
    {
     "name": "stdout",
     "output_type": "stream",
     "text": [
      "3\n",
      "7\n",
      "11\n"
     ]
    }
   ],
   "source": [
    "for first, last in a:\n",
    "    print(first+last)"
   ]
  },
  {
   "cell_type": "markdown",
   "id": "d1a90959-a865-4384-b3cd-8f07489d3166",
   "metadata": {},
   "source": [
    "## quiz\n",
    "```\n",
    "총 5명의 학생이 시험을 보았는데\n",
    "시험 점수가 60점 이상이면 합격이고\n",
    "그렇지 않으면 불합격이다.\n",
    "합격인지, 불합격인지 결과를 보여 주시오.\n",
    "```"
   ]
  },
  {
   "cell_type": "code",
   "execution_count": 15,
   "id": "8059cb66-a64f-40b9-99af-34432057820b",
   "metadata": {
    "tags": []
   },
   "outputs": [
    {
     "name": "stdout",
     "output_type": "stream",
     "text": [
      "1번 학생은 90 합격입니다.\n",
      "2번 학생은 25 불합격입니다.\n",
      "3번 학생은 67 합격입니다.\n",
      "4번 학생은 45 불합격입니다.\n",
      "5번 학생은 80 합격입니다.\n"
     ]
    }
   ],
   "source": [
    "scores = [90, 25, 67, 45, 80]\n",
    "\n",
    "number = 0\n",
    "for s in scores:\n",
    "    number += 1\n",
    "    if s >= 60:\n",
    "        print(f'{number}번 학생은 {s} 합격입니다.')\n",
    "    else:\n",
    "        print(f'{number}번 학생은 {s} 불합격입니다.')"
   ]
  },
  {
   "cell_type": "code",
   "execution_count": null,
   "id": "bdb09cbd-a098-461b-9d8d-7d7efd7fe3d9",
   "metadata": {},
   "outputs": [],
   "source": []
  },
  {
   "cell_type": "code",
   "execution_count": null,
   "id": "37e6a400-681e-4d21-b0e6-6bf09f9397e5",
   "metadata": {},
   "outputs": [],
   "source": []
  }
 ],
 "metadata": {
  "kernelspec": {
   "display_name": "Python 3 (ipykernel)",
   "language": "python",
   "name": "python3"
  },
  "language_info": {
   "codemirror_mode": {
    "name": "ipython",
    "version": 3
   },
   "file_extension": ".py",
   "mimetype": "text/x-python",
   "name": "python",
   "nbconvert_exporter": "python",
   "pygments_lexer": "ipython3",
   "version": "3.11.5"
  }
 },
 "nbformat": 4,
 "nbformat_minor": 5
}
